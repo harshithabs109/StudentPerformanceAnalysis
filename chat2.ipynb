{
 "cells": [
  {
   "cell_type": "code",
   "execution_count": 1,
   "metadata": {},
   "outputs": [
    {
     "name": "stdout",
     "output_type": "stream",
     "text": [
      "Requirement already satisfied: flask in c:\\users\\91733\\appdata\\local\\programs\\python\\python313\\lib\\site-packages (3.1.0)\n",
      "Requirement already satisfied: pandas in c:\\users\\91733\\appdata\\local\\programs\\python\\python313\\lib\\site-packages (2.2.3)\n",
      "Requirement already satisfied: numpy in c:\\users\\91733\\appdata\\local\\programs\\python\\python313\\lib\\site-packages (2.2.3)\n",
      "Requirement already satisfied: scikit-learn in c:\\users\\91733\\appdata\\local\\programs\\python\\python313\\lib\\site-packages (1.6.1)\n",
      "Requirement already satisfied: nltk in c:\\users\\91733\\appdata\\local\\programs\\python\\python313\\lib\\site-packages (3.9.1)\n",
      "Requirement already satisfied: torch in c:\\users\\91733\\appdata\\local\\programs\\python\\python313\\lib\\site-packages (2.6.0)\n",
      "Requirement already satisfied: transformers in c:\\users\\91733\\appdata\\local\\programs\\python\\python313\\lib\\site-packages (4.49.0)\n",
      "Requirement already satisfied: seaborn in c:\\users\\91733\\appdata\\local\\programs\\python\\python313\\lib\\site-packages (0.13.2)\n",
      "Requirement already satisfied: joblib in c:\\users\\91733\\appdata\\local\\programs\\python\\python313\\lib\\site-packages (1.4.2)\n",
      "Requirement already satisfied: matplotlib in c:\\users\\91733\\appdata\\local\\programs\\python\\python313\\lib\\site-packages (3.10.1)\n",
      "Requirement already satisfied: Werkzeug>=3.1 in c:\\users\\91733\\appdata\\local\\programs\\python\\python313\\lib\\site-packages (from flask) (3.1.3)\n",
      "Requirement already satisfied: Jinja2>=3.1.2 in c:\\users\\91733\\appdata\\local\\programs\\python\\python313\\lib\\site-packages (from flask) (3.1.6)\n",
      "Requirement already satisfied: itsdangerous>=2.2 in c:\\users\\91733\\appdata\\local\\programs\\python\\python313\\lib\\site-packages (from flask) (2.2.0)\n",
      "Requirement already satisfied: click>=8.1.3 in c:\\users\\91733\\appdata\\local\\programs\\python\\python313\\lib\\site-packages (from flask) (8.1.8)\n",
      "Requirement already satisfied: blinker>=1.9 in c:\\users\\91733\\appdata\\local\\programs\\python\\python313\\lib\\site-packages (from flask) (1.9.0)\n",
      "Requirement already satisfied: python-dateutil>=2.8.2 in c:\\users\\91733\\appdata\\roaming\\python\\python313\\site-packages (from pandas) (2.9.0.post0)\n",
      "Requirement already satisfied: pytz>=2020.1 in c:\\users\\91733\\appdata\\local\\programs\\python\\python313\\lib\\site-packages (from pandas) (2025.1)\n",
      "Requirement already satisfied: tzdata>=2022.7 in c:\\users\\91733\\appdata\\local\\programs\\python\\python313\\lib\\site-packages (from pandas) (2025.1)\n",
      "Requirement already satisfied: scipy>=1.6.0 in c:\\users\\91733\\appdata\\local\\programs\\python\\python313\\lib\\site-packages (from scikit-learn) (1.15.2)\n",
      "Requirement already satisfied: threadpoolctl>=3.1.0 in c:\\users\\91733\\appdata\\local\\programs\\python\\python313\\lib\\site-packages (from scikit-learn) (3.5.0)\n",
      "Requirement already satisfied: regex>=2021.8.3 in c:\\users\\91733\\appdata\\local\\programs\\python\\python313\\lib\\site-packages (from nltk) (2024.11.6)\n",
      "Requirement already satisfied: tqdm in c:\\users\\91733\\appdata\\local\\programs\\python\\python313\\lib\\site-packages (from nltk) (4.67.1)\n",
      "Requirement already satisfied: filelock in c:\\users\\91733\\appdata\\local\\programs\\python\\python313\\lib\\site-packages (from torch) (3.17.0)\n",
      "Requirement already satisfied: typing-extensions>=4.10.0 in c:\\users\\91733\\appdata\\local\\programs\\python\\python313\\lib\\site-packages (from torch) (4.12.2)\n",
      "Requirement already satisfied: networkx in c:\\users\\91733\\appdata\\local\\programs\\python\\python313\\lib\\site-packages (from torch) (3.4.2)\n",
      "Requirement already satisfied: fsspec in c:\\users\\91733\\appdata\\local\\programs\\python\\python313\\lib\\site-packages (from torch) (2025.3.0)\n",
      "Requirement already satisfied: setuptools in c:\\users\\91733\\appdata\\local\\programs\\python\\python313\\lib\\site-packages (from torch) (76.0.0)\n",
      "Requirement already satisfied: sympy==1.13.1 in c:\\users\\91733\\appdata\\local\\programs\\python\\python313\\lib\\site-packages (from torch) (1.13.1)\n",
      "Requirement already satisfied: mpmath<1.4,>=1.1.0 in c:\\users\\91733\\appdata\\local\\programs\\python\\python313\\lib\\site-packages (from sympy==1.13.1->torch) (1.3.0)\n",
      "Requirement already satisfied: huggingface-hub<1.0,>=0.26.0 in c:\\users\\91733\\appdata\\local\\programs\\python\\python313\\lib\\site-packages (from transformers) (0.29.2)\n",
      "Requirement already satisfied: packaging>=20.0 in c:\\users\\91733\\appdata\\roaming\\python\\python313\\site-packages (from transformers) (24.2)\n",
      "Requirement already satisfied: pyyaml>=5.1 in c:\\users\\91733\\appdata\\local\\programs\\python\\python313\\lib\\site-packages (from transformers) (6.0.2)\n",
      "Requirement already satisfied: requests in c:\\users\\91733\\appdata\\local\\programs\\python\\python313\\lib\\site-packages (from transformers) (2.32.3)\n",
      "Requirement already satisfied: tokenizers<0.22,>=0.21 in c:\\users\\91733\\appdata\\local\\programs\\python\\python313\\lib\\site-packages (from transformers) (0.21.0)\n",
      "Requirement already satisfied: safetensors>=0.4.1 in c:\\users\\91733\\appdata\\local\\programs\\python\\python313\\lib\\site-packages (from transformers) (0.5.3)\n",
      "Requirement already satisfied: contourpy>=1.0.1 in c:\\users\\91733\\appdata\\local\\programs\\python\\python313\\lib\\site-packages (from matplotlib) (1.3.1)\n",
      "Requirement already satisfied: cycler>=0.10 in c:\\users\\91733\\appdata\\local\\programs\\python\\python313\\lib\\site-packages (from matplotlib) (0.12.1)\n",
      "Requirement already satisfied: fonttools>=4.22.0 in c:\\users\\91733\\appdata\\local\\programs\\python\\python313\\lib\\site-packages (from matplotlib) (4.56.0)\n",
      "Requirement already satisfied: kiwisolver>=1.3.1 in c:\\users\\91733\\appdata\\local\\programs\\python\\python313\\lib\\site-packages (from matplotlib) (1.4.8)\n",
      "Requirement already satisfied: pillow>=8 in c:\\users\\91733\\appdata\\local\\programs\\python\\python313\\lib\\site-packages (from matplotlib) (11.1.0)\n",
      "Requirement already satisfied: pyparsing>=2.3.1 in c:\\users\\91733\\appdata\\local\\programs\\python\\python313\\lib\\site-packages (from matplotlib) (3.2.1)\n",
      "Requirement already satisfied: colorama in c:\\users\\91733\\appdata\\roaming\\python\\python313\\site-packages (from click>=8.1.3->flask) (0.4.6)\n",
      "Requirement already satisfied: MarkupSafe>=2.0 in c:\\users\\91733\\appdata\\local\\programs\\python\\python313\\lib\\site-packages (from Jinja2>=3.1.2->flask) (3.0.2)\n",
      "Requirement already satisfied: six>=1.5 in c:\\users\\91733\\appdata\\roaming\\python\\python313\\site-packages (from python-dateutil>=2.8.2->pandas) (1.17.0)\n",
      "Requirement already satisfied: charset-normalizer<4,>=2 in c:\\users\\91733\\appdata\\local\\programs\\python\\python313\\lib\\site-packages (from requests->transformers) (3.4.1)\n",
      "Requirement already satisfied: idna<4,>=2.5 in c:\\users\\91733\\appdata\\local\\programs\\python\\python313\\lib\\site-packages (from requests->transformers) (3.10)\n",
      "Requirement already satisfied: urllib3<3,>=1.21.1 in c:\\users\\91733\\appdata\\local\\programs\\python\\python313\\lib\\site-packages (from requests->transformers) (2.3.0)\n",
      "Requirement already satisfied: certifi>=2017.4.17 in c:\\users\\91733\\appdata\\local\\programs\\python\\python313\\lib\\site-packages (from requests->transformers) (2025.1.31)\n",
      "Note: you may need to restart the kernel to use updated packages.\n"
     ]
    }
   ],
   "source": [
    "pip install flask pandas numpy scikit-learn nltk torch transformers seaborn joblib matplotlib \n"
   ]
  },
  {
   "cell_type": "code",
   "execution_count": 13,
   "metadata": {},
   "outputs": [
    {
     "name": "stdout",
     "output_type": "stream",
     "text": [
      "Requirement already satisfied: pandas in c:\\users\\91733\\appdata\\local\\programs\\python\\python313\\lib\\site-packages (2.2.3)\n",
      "Requirement already satisfied: ipywidgets in c:\\users\\91733\\appdata\\local\\programs\\python\\python313\\lib\\site-packages (8.1.5)\n",
      "Requirement already satisfied: numpy>=1.26.0 in c:\\users\\91733\\appdata\\local\\programs\\python\\python313\\lib\\site-packages (from pandas) (2.2.3)\n",
      "Requirement already satisfied: python-dateutil>=2.8.2 in c:\\users\\91733\\appdata\\roaming\\python\\python313\\site-packages (from pandas) (2.9.0.post0)\n",
      "Requirement already satisfied: pytz>=2020.1 in c:\\users\\91733\\appdata\\local\\programs\\python\\python313\\lib\\site-packages (from pandas) (2025.1)\n",
      "Requirement already satisfied: tzdata>=2022.7 in c:\\users\\91733\\appdata\\local\\programs\\python\\python313\\lib\\site-packages (from pandas) (2025.1)\n",
      "Requirement already satisfied: comm>=0.1.3 in c:\\users\\91733\\appdata\\roaming\\python\\python313\\site-packages (from ipywidgets) (0.2.2)\n",
      "Requirement already satisfied: ipython>=6.1.0 in c:\\users\\91733\\appdata\\roaming\\python\\python313\\site-packages (from ipywidgets) (9.0.1)\n",
      "Requirement already satisfied: traitlets>=4.3.1 in c:\\users\\91733\\appdata\\roaming\\python\\python313\\site-packages (from ipywidgets) (5.14.3)\n",
      "Requirement already satisfied: widgetsnbextension~=4.0.12 in c:\\users\\91733\\appdata\\local\\programs\\python\\python313\\lib\\site-packages (from ipywidgets) (4.0.13)\n",
      "Requirement already satisfied: jupyterlab-widgets~=3.0.12 in c:\\users\\91733\\appdata\\local\\programs\\python\\python313\\lib\\site-packages (from ipywidgets) (3.0.13)\n",
      "Requirement already satisfied: colorama in c:\\users\\91733\\appdata\\roaming\\python\\python313\\site-packages (from ipython>=6.1.0->ipywidgets) (0.4.6)\n",
      "Requirement already satisfied: decorator in c:\\users\\91733\\appdata\\roaming\\python\\python313\\site-packages (from ipython>=6.1.0->ipywidgets) (5.2.1)\n",
      "Requirement already satisfied: ipython-pygments-lexers in c:\\users\\91733\\appdata\\roaming\\python\\python313\\site-packages (from ipython>=6.1.0->ipywidgets) (1.1.1)\n",
      "Requirement already satisfied: jedi>=0.16 in c:\\users\\91733\\appdata\\roaming\\python\\python313\\site-packages (from ipython>=6.1.0->ipywidgets) (0.19.2)\n",
      "Requirement already satisfied: matplotlib-inline in c:\\users\\91733\\appdata\\roaming\\python\\python313\\site-packages (from ipython>=6.1.0->ipywidgets) (0.1.7)\n",
      "Requirement already satisfied: prompt_toolkit<3.1.0,>=3.0.41 in c:\\users\\91733\\appdata\\roaming\\python\\python313\\site-packages (from ipython>=6.1.0->ipywidgets) (3.0.50)\n",
      "Requirement already satisfied: pygments>=2.4.0 in c:\\users\\91733\\appdata\\roaming\\python\\python313\\site-packages (from ipython>=6.1.0->ipywidgets) (2.19.1)\n",
      "Requirement already satisfied: stack_data in c:\\users\\91733\\appdata\\roaming\\python\\python313\\site-packages (from ipython>=6.1.0->ipywidgets) (0.6.3)\n",
      "Requirement already satisfied: six>=1.5 in c:\\users\\91733\\appdata\\roaming\\python\\python313\\site-packages (from python-dateutil>=2.8.2->pandas) (1.17.0)\n",
      "Requirement already satisfied: parso<0.9.0,>=0.8.4 in c:\\users\\91733\\appdata\\roaming\\python\\python313\\site-packages (from jedi>=0.16->ipython>=6.1.0->ipywidgets) (0.8.4)\n",
      "Requirement already satisfied: wcwidth in c:\\users\\91733\\appdata\\roaming\\python\\python313\\site-packages (from prompt_toolkit<3.1.0,>=3.0.41->ipython>=6.1.0->ipywidgets) (0.2.13)\n",
      "Requirement already satisfied: executing>=1.2.0 in c:\\users\\91733\\appdata\\roaming\\python\\python313\\site-packages (from stack_data->ipython>=6.1.0->ipywidgets) (2.2.0)\n",
      "Requirement already satisfied: asttokens>=2.1.0 in c:\\users\\91733\\appdata\\roaming\\python\\python313\\site-packages (from stack_data->ipython>=6.1.0->ipywidgets) (3.0.0)\n",
      "Requirement already satisfied: pure-eval in c:\\users\\91733\\appdata\\roaming\\python\\python313\\site-packages (from stack_data->ipython>=6.1.0->ipywidgets) (0.2.3)\n",
      "Note: you may need to restart the kernel to use updated packages.\n"
     ]
    }
   ],
   "source": [
    "pip install pandas ipywidgets"
   ]
  },
  {
   "cell_type": "code",
   "execution_count": 14,
   "metadata": {},
   "outputs": [
    {
     "name": "stdout",
     "output_type": "stream",
     "text": [
      "Requirement already satisfied: matplotlib in c:\\users\\91733\\appdata\\local\\programs\\python\\python313\\lib\\site-packages (3.10.1)\n",
      "Requirement already satisfied: contourpy>=1.0.1 in c:\\users\\91733\\appdata\\local\\programs\\python\\python313\\lib\\site-packages (from matplotlib) (1.3.1)\n",
      "Requirement already satisfied: cycler>=0.10 in c:\\users\\91733\\appdata\\local\\programs\\python\\python313\\lib\\site-packages (from matplotlib) (0.12.1)\n",
      "Requirement already satisfied: fonttools>=4.22.0 in c:\\users\\91733\\appdata\\local\\programs\\python\\python313\\lib\\site-packages (from matplotlib) (4.56.0)\n",
      "Requirement already satisfied: kiwisolver>=1.3.1 in c:\\users\\91733\\appdata\\local\\programs\\python\\python313\\lib\\site-packages (from matplotlib) (1.4.8)\n",
      "Requirement already satisfied: numpy>=1.23 in c:\\users\\91733\\appdata\\local\\programs\\python\\python313\\lib\\site-packages (from matplotlib) (2.2.3)\n",
      "Requirement already satisfied: packaging>=20.0 in c:\\users\\91733\\appdata\\roaming\\python\\python313\\site-packages (from matplotlib) (24.2)\n",
      "Requirement already satisfied: pillow>=8 in c:\\users\\91733\\appdata\\local\\programs\\python\\python313\\lib\\site-packages (from matplotlib) (11.1.0)\n",
      "Requirement already satisfied: pyparsing>=2.3.1 in c:\\users\\91733\\appdata\\local\\programs\\python\\python313\\lib\\site-packages (from matplotlib) (3.2.1)\n",
      "Requirement already satisfied: python-dateutil>=2.7 in c:\\users\\91733\\appdata\\roaming\\python\\python313\\site-packages (from matplotlib) (2.9.0.post0)\n",
      "Requirement already satisfied: six>=1.5 in c:\\users\\91733\\appdata\\roaming\\python\\python313\\site-packages (from python-dateutil>=2.7->matplotlib) (1.17.0)\n",
      "Note: you may need to restart the kernel to use updated packages.\n"
     ]
    }
   ],
   "source": [
    "pip install matplotlib"
   ]
  },
  {
   "cell_type": "code",
   "execution_count": 15,
   "metadata": {},
   "outputs": [
    {
     "name": "stdout",
     "output_type": "stream",
     "text": [
      "Dataset Statistical Summary:\n",
      "        math score  reading score  writing score  gender_encoded  \\\n",
      "count  1000.00000    1000.000000    1000.000000     1000.000000   \n",
      "mean     66.08900      69.169000      68.054000        0.482000   \n",
      "std      15.16308      14.600192      15.195657        0.499926   \n",
      "min       0.00000      17.000000      10.000000        0.000000   \n",
      "25%      57.00000      59.000000      57.750000        0.000000   \n",
      "50%      66.00000      70.000000      69.000000        0.000000   \n",
      "75%      77.00000      79.000000      79.000000        1.000000   \n",
      "max     100.00000     100.000000     100.000000        1.000000   \n",
      "\n",
      "       lunch_encoded  test_preparation_encoded  \n",
      "count    1000.000000               1000.000000  \n",
      "mean        0.645000                  0.642000  \n",
      "std         0.478753                  0.479652  \n",
      "min         0.000000                  0.000000  \n",
      "25%         0.000000                  0.000000  \n",
      "50%         1.000000                  1.000000  \n",
      "75%         1.000000                  1.000000  \n",
      "max         1.000000                  1.000000  \n",
      "High Performers Count: 51 - Recommendation: Consider advanced courses.\n",
      "Low Performers Count: 55 - Recommendation: Extra tutoring and study resources.\n"
     ]
    },
    {
     "data": {
      "application/vnd.jupyter.widget-view+json": {
       "model_id": "1fafbd424fdd440da051466b8f86d82e",
       "version_major": 2,
       "version_minor": 0
      },
      "text/plain": [
       "interactive(children=(Dropdown(description='Choose Graph:', options=('Score Distribution', 'Gender Performance…"
      ]
     },
     "execution_count": 15,
     "metadata": {},
     "output_type": "execute_result"
    }
   ],
   "source": [
    "import pandas as pd\n",
    "import numpy as np\n",
    "import matplotlib.pyplot as plt\n",
    "import seaborn as sns\n",
    "import ipywidgets as widgets\n",
    "from IPython.display import display\n",
    "from sklearn.preprocessing import LabelEncoder\n",
    "\n",
    "# Load dataset\n",
    "data = pd.read_csv(\"StudentsPerformance.csv\")\n",
    "\n",
    "# Encode categorical variables\n",
    "label_enc = LabelEncoder()\n",
    "data['gender_encoded'] = label_enc.fit_transform(data['gender'])\n",
    "data['lunch_encoded'] = label_enc.fit_transform(data['lunch'])\n",
    "data['test_preparation_encoded'] = label_enc.fit_transform(data['test preparation course'])\n",
    "\n",
    "# Statistical Summary\n",
    "summary = data.describe()\n",
    "print(\"Dataset Statistical Summary:\\n\", summary)\n",
    "\n",
    "# High and Low Performers\n",
    "high_performers = data[(data['math score'] > 85) & (data['reading score'] > 85) & (data['writing score'] > 85)]\n",
    "low_performers = data[(data['math score'] < 50) & (data['reading score'] < 50) & (data['writing score'] < 50)]\n",
    "print(f\"High Performers Count: {len(high_performers)} - Recommendation: Consider advanced courses.\")\n",
    "print(f\"Low Performers Count: {len(low_performers)} - Recommendation: Extra tutoring and study resources.\")\n",
    "\n",
    "# Function to generate graphs\n",
    "def plot_graph(option):\n",
    "    plt.figure(figsize=(8, 5))\n",
    "    if option == \"Score Distribution\":\n",
    "        sns.histplot(data[['math score', 'reading score', 'writing score']], kde=True)\n",
    "        plt.title(\"Distribution of Scores\")\n",
    "    elif option == \"Gender Performance\":\n",
    "        sns.boxplot(x='gender', y='math score', data=data)\n",
    "        plt.title(\"Math Score by Gender\")\n",
    "    elif option == \"Lunch Effect\":\n",
    "        sns.boxplot(x='lunch', y='math score', data=data)\n",
    "        plt.title(\"Effect of Lunch on Math Score\")\n",
    "    plt.show()\n",
    "\n",
    "# Interactive Widget\n",
    "dropdown = widgets.Dropdown(\n",
    "    options=['Score Distribution', 'Gender Performance', 'Lunch Effect'],\n",
    "    description='Choose Graph:',\n",
    "    style={'description_width': 'initial'}\n",
    ")\n",
    "widgets.interactive(plot_graph, option=dropdown)\n"
   ]
  },
  {
   "cell_type": "code",
   "execution_count": 16,
   "metadata": {},
   "outputs": [
    {
     "data": {
      "text/html": [
       "\n",
       "    <div style='border:1px solid #ddd; padding:10px; margin:10px; border-radius:10px; box-shadow: 2px 2px 10px #aaa;'>\n",
       "        <h3>Model Accuracy</h3>\n",
       "        <p>The model achieved an accuracy of 0.99</p>\n",
       "    </div>\n",
       "    "
      ],
      "text/plain": [
       "<IPython.core.display.HTML object>"
      ]
     },
     "metadata": {},
     "output_type": "display_data"
    },
    {
     "data": {
      "text/html": [
       "\n",
       "    <div style='border:1px solid #ddd; padding:10px; margin:10px; border-radius:10px; box-shadow: 2px 2px 10px #aaa;'>\n",
       "        <h3>Classification Report</h3>\n",
       "        <p><pre>              precision    recall  f1-score   support\n",
       "\n",
       "        Fail       0.96      0.96      0.96        27\n",
       "        Pass       0.99      0.99      0.99       173\n",
       "\n",
       "    accuracy                           0.99       200\n",
       "   macro avg       0.98      0.98      0.98       200\n",
       "weighted avg       0.99      0.99      0.99       200\n",
       "</pre></p>\n",
       "    </div>\n",
       "    "
      ],
      "text/plain": [
       "<IPython.core.display.HTML object>"
      ]
     },
     "metadata": {},
     "output_type": "display_data"
    },
    {
     "data": {
      "application/vnd.jupyter.widget-view+json": {
       "model_id": "1d67ed6c217043818f7bbe29387ec94c",
       "version_major": 2,
       "version_minor": 0
      },
      "text/plain": [
       "Dropdown(description='Ask:', options=('improve', 'stress', 'resources', 'health'), value='improve')"
      ]
     },
     "metadata": {},
     "output_type": "display_data"
    },
    {
     "data": {
      "application/vnd.jupyter.widget-view+json": {
       "model_id": "e9891643b8f041588255e648efe6a5e2",
       "version_major": 2,
       "version_minor": 0
      },
      "text/plain": [
       "Output()"
      ]
     },
     "metadata": {},
     "output_type": "display_data"
    },
    {
     "data": {
      "application/vnd.plotly.v1+json": {
       "config": {
        "plotlyServerURL": "https://plot.ly"
       },
       "data": [
        {
         "bingroup": "x",
         "hovertemplate": "pass_fail=Pass<br>total_score=%{x}<br>count=%{y}<extra></extra>",
         "legendgroup": "Pass",
         "marker": {
          "color": "#636efa",
          "pattern": {
           "shape": ""
          }
         },
         "name": "Pass",
         "orientation": "v",
         "showlegend": true,
         "type": "histogram",
         "x": {
          "bdata": "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",
          "dtype": "f8"
         },
         "xaxis": "x",
         "yaxis": "y"
        },
        {
         "hovertemplate": "pass_fail=Pass<br>total_score=%{x}<extra></extra>",
         "legendgroup": "Pass",
         "marker": {
          "color": "#636efa"
         },
         "name": "Pass",
         "notched": true,
         "showlegend": false,
         "type": "box",
         "x": {
          "bdata": "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",
          "dtype": "f8"
         },
         "xaxis": "x2",
         "yaxis": "y2"
        },
        {
         "bingroup": "x",
         "hovertemplate": "pass_fail=Fail<br>total_score=%{x}<br>count=%{y}<extra></extra>",
         "legendgroup": "Fail",
         "marker": {
          "color": "#EF553B",
          "pattern": {
           "shape": ""
          }
         },
         "name": "Fail",
         "orientation": "v",
         "showlegend": true,
         "type": "histogram",
         "x": {
          "bdata": "q6qqqqqqSEBVVVVVVVVEQKuqqqqqqkhAAAAAAACARkAAAAAAAAA6QFVVVVVVVUZAAAAAAAAARECrqqqqqipHQAAAAAAAgENAAAAAAAAAIkCrqqqqqqpCQFVVVVVV1UNAVVVVVVVVR0CrqqqqqipHQAAAAAAAgERAAAAAAAAAOkBVVVVVVVVIQKuqqqqqKkdAq6qqqqoqQ0CrqqqqqipAQAAAAAAAAEdAq6qqqqqqRUBVVVVVVVVIQAAAAAAAgEhAVVVVVVVVP0CrqqqqqqpIQAAAAAAAgEhAVVVVVVVVSECrqqqqqipIQKuqqqqqqkdAAAAAAAAAPkCrqqqqqipDQFVVVVVV1UVAq6qqqqoqSECrqqqqqipIQKuqqqqqqkdAVVVVVVXVSEAAAAAAAIBIQKuqqqqqKkdAAAAAAACARUCrqqqqqqpFQKuqqqqqqkZAAAAAAACASEBVVVVVVdVIQKuqqqqqqkVAVVVVVVVVN0AAAAAAAIBIQFVVVVVV1UNAVVVVVVXVR0Crqqqqqqo9QAAAAAAAAD9Aq6qqqqqqRUAAAAAAAABGQKuqqqqqqkRAVVVVVVVVRkCrqqqqqipHQAAAAAAAAENAAAAAAACARkBVVVVVVVVHQKuqqqqqqj9AAAAAAAAARkAAAAAAAIBDQAAAAAAAAEdAAAAAAAAAR0BVVVVVVVVBQKuqqqqqKkhAq6qqqqqqRkCrqqqqqqpIQAAAAAAAADdAVVVVVVVVPUAAAAAAAABEQAAAAAAAAEhAVVVVVVXVQkBVVVVVVVVDQFVVVVVVVUdAVVVVVVXVRUAAAAAAAIBFQAAAAAAAAEhAVVVVVVVVSEBVVVVVVdVIQFVVVVVVVURAq6qqqqoqRUCrqqqqqqo9QKuqqqqqKkhAAAAAAAAARUCrqqqqqqpDQAAAAAAAgEdAVVVVVVXVRkCrqqqqqipBQAAAAAAAgEhAVVVVVVXVQ0AAAAAAAABIQKuqqqqqKkhAVVVVVVXVR0BVVVVVVVVBQKuqqqqqqj5AAAAAAACAREBVVVVVVVVHQFVVVVVVVUZAq6qqqqoqRkAAAAAAAABIQFVVVVVVVTJAVVVVVVVVRkA=",
          "dtype": "f8"
         },
         "xaxis": "x",
         "yaxis": "y"
        },
        {
         "hovertemplate": "pass_fail=Fail<br>total_score=%{x}<extra></extra>",
         "legendgroup": "Fail",
         "marker": {
          "color": "#EF553B"
         },
         "name": "Fail",
         "notched": true,
         "showlegend": false,
         "type": "box",
         "x": {
          "bdata": "q6qqqqqqSEBVVVVVVVVEQKuqqqqqqkhAAAAAAACARkAAAAAAAAA6QFVVVVVVVUZAAAAAAAAARECrqqqqqipHQAAAAAAAgENAAAAAAAAAIkCrqqqqqqpCQFVVVVVV1UNAVVVVVVVVR0CrqqqqqipHQAAAAAAAgERAAAAAAAAAOkBVVVVVVVVIQKuqqqqqKkdAq6qqqqoqQ0CrqqqqqipAQAAAAAAAAEdAq6qqqqqqRUBVVVVVVVVIQAAAAAAAgEhAVVVVVVVVP0CrqqqqqqpIQAAAAAAAgEhAVVVVVVVVSECrqqqqqipIQKuqqqqqqkdAAAAAAAAAPkCrqqqqqipDQFVVVVVV1UVAq6qqqqoqSECrqqqqqipIQKuqqqqqqkdAVVVVVVXVSEAAAAAAAIBIQKuqqqqqKkdAAAAAAACARUCrqqqqqqpFQKuqqqqqqkZAAAAAAACASEBVVVVVVdVIQKuqqqqqqkVAVVVVVVVVN0AAAAAAAIBIQFVVVVVV1UNAVVVVVVXVR0Crqqqqqqo9QAAAAAAAAD9Aq6qqqqqqRUAAAAAAAABGQKuqqqqqqkRAVVVVVVVVRkCrqqqqqipHQAAAAAAAAENAAAAAAACARkBVVVVVVVVHQKuqqqqqqj9AAAAAAAAARkAAAAAAAIBDQAAAAAAAAEdAAAAAAAAAR0BVVVVVVVVBQKuqqqqqKkhAq6qqqqqqRkCrqqqqqqpIQAAAAAAAADdAVVVVVVVVPUAAAAAAAABEQAAAAAAAAEhAVVVVVVXVQkBVVVVVVVVDQFVVVVVVVUdAVVVVVVXVRUAAAAAAAIBFQAAAAAAAAEhAVVVVVVVVSEBVVVVVVdVIQFVVVVVVVURAq6qqqqoqRUCrqqqqqqo9QKuqqqqqKkhAAAAAAAAARUCrqqqqqqpDQAAAAAAAgEdAVVVVVVXVRkCrqqqqqipBQAAAAAAAgEhAVVVVVVXVQ0AAAAAAAABIQKuqqqqqKkhAVVVVVVXVR0BVVVVVVVVBQKuqqqqqqj5AAAAAAACAREBVVVVVVVVHQFVVVVVVVUZAq6qqqqoqRkAAAAAAAABIQFVVVVVVVTJAVVVVVVVVRkA=",
          "dtype": "f8"
         },
         "xaxis": "x2",
         "yaxis": "y2"
        }
       ],
       "layout": {
        "barmode": "relative",
        "legend": {
         "title": {
          "text": "pass_fail"
         },
         "tracegroupgap": 0
        },
        "template": {
         "data": {
          "bar": [
           {
            "error_x": {
             "color": "#2a3f5f"
            },
            "error_y": {
             "color": "#2a3f5f"
            },
            "marker": {
             "line": {
              "color": "#E5ECF6",
              "width": 0.5
             },
             "pattern": {
              "fillmode": "overlay",
              "size": 10,
              "solidity": 0.2
             }
            },
            "type": "bar"
           }
          ],
          "barpolar": [
           {
            "marker": {
             "line": {
              "color": "#E5ECF6",
              "width": 0.5
             },
             "pattern": {
              "fillmode": "overlay",
              "size": 10,
              "solidity": 0.2
             }
            },
            "type": "barpolar"
           }
          ],
          "carpet": [
           {
            "aaxis": {
             "endlinecolor": "#2a3f5f",
             "gridcolor": "white",
             "linecolor": "white",
             "minorgridcolor": "white",
             "startlinecolor": "#2a3f5f"
            },
            "baxis": {
             "endlinecolor": "#2a3f5f",
             "gridcolor": "white",
             "linecolor": "white",
             "minorgridcolor": "white",
             "startlinecolor": "#2a3f5f"
            },
            "type": "carpet"
           }
          ],
          "choropleth": [
           {
            "colorbar": {
             "outlinewidth": 0,
             "ticks": ""
            },
            "type": "choropleth"
           }
          ],
          "contour": [
           {
            "colorbar": {
             "outlinewidth": 0,
             "ticks": ""
            },
            "colorscale": [
             [
              0,
              "#0d0887"
             ],
             [
              0.1111111111111111,
              "#46039f"
             ],
             [
              0.2222222222222222,
              "#7201a8"
             ],
             [
              0.3333333333333333,
              "#9c179e"
             ],
             [
              0.4444444444444444,
              "#bd3786"
             ],
             [
              0.5555555555555556,
              "#d8576b"
             ],
             [
              0.6666666666666666,
              "#ed7953"
             ],
             [
              0.7777777777777778,
              "#fb9f3a"
             ],
             [
              0.8888888888888888,
              "#fdca26"
             ],
             [
              1,
              "#f0f921"
             ]
            ],
            "type": "contour"
           }
          ],
          "contourcarpet": [
           {
            "colorbar": {
             "outlinewidth": 0,
             "ticks": ""
            },
            "type": "contourcarpet"
           }
          ],
          "heatmap": [
           {
            "colorbar": {
             "outlinewidth": 0,
             "ticks": ""
            },
            "colorscale": [
             [
              0,
              "#0d0887"
             ],
             [
              0.1111111111111111,
              "#46039f"
             ],
             [
              0.2222222222222222,
              "#7201a8"
             ],
             [
              0.3333333333333333,
              "#9c179e"
             ],
             [
              0.4444444444444444,
              "#bd3786"
             ],
             [
              0.5555555555555556,
              "#d8576b"
             ],
             [
              0.6666666666666666,
              "#ed7953"
             ],
             [
              0.7777777777777778,
              "#fb9f3a"
             ],
             [
              0.8888888888888888,
              "#fdca26"
             ],
             [
              1,
              "#f0f921"
             ]
            ],
            "type": "heatmap"
           }
          ],
          "histogram": [
           {
            "marker": {
             "pattern": {
              "fillmode": "overlay",
              "size": 10,
              "solidity": 0.2
             }
            },
            "type": "histogram"
           }
          ],
          "histogram2d": [
           {
            "colorbar": {
             "outlinewidth": 0,
             "ticks": ""
            },
            "colorscale": [
             [
              0,
              "#0d0887"
             ],
             [
              0.1111111111111111,
              "#46039f"
             ],
             [
              0.2222222222222222,
              "#7201a8"
             ],
             [
              0.3333333333333333,
              "#9c179e"
             ],
             [
              0.4444444444444444,
              "#bd3786"
             ],
             [
              0.5555555555555556,
              "#d8576b"
             ],
             [
              0.6666666666666666,
              "#ed7953"
             ],
             [
              0.7777777777777778,
              "#fb9f3a"
             ],
             [
              0.8888888888888888,
              "#fdca26"
             ],
             [
              1,
              "#f0f921"
             ]
            ],
            "type": "histogram2d"
           }
          ],
          "histogram2dcontour": [
           {
            "colorbar": {
             "outlinewidth": 0,
             "ticks": ""
            },
            "colorscale": [
             [
              0,
              "#0d0887"
             ],
             [
              0.1111111111111111,
              "#46039f"
             ],
             [
              0.2222222222222222,
              "#7201a8"
             ],
             [
              0.3333333333333333,
              "#9c179e"
             ],
             [
              0.4444444444444444,
              "#bd3786"
             ],
             [
              0.5555555555555556,
              "#d8576b"
             ],
             [
              0.6666666666666666,
              "#ed7953"
             ],
             [
              0.7777777777777778,
              "#fb9f3a"
             ],
             [
              0.8888888888888888,
              "#fdca26"
             ],
             [
              1,
              "#f0f921"
             ]
            ],
            "type": "histogram2dcontour"
           }
          ],
          "mesh3d": [
           {
            "colorbar": {
             "outlinewidth": 0,
             "ticks": ""
            },
            "type": "mesh3d"
           }
          ],
          "parcoords": [
           {
            "line": {
             "colorbar": {
              "outlinewidth": 0,
              "ticks": ""
             }
            },
            "type": "parcoords"
           }
          ],
          "pie": [
           {
            "automargin": true,
            "type": "pie"
           }
          ],
          "scatter": [
           {
            "fillpattern": {
             "fillmode": "overlay",
             "size": 10,
             "solidity": 0.2
            },
            "type": "scatter"
           }
          ],
          "scatter3d": [
           {
            "line": {
             "colorbar": {
              "outlinewidth": 0,
              "ticks": ""
             }
            },
            "marker": {
             "colorbar": {
              "outlinewidth": 0,
              "ticks": ""
             }
            },
            "type": "scatter3d"
           }
          ],
          "scattercarpet": [
           {
            "marker": {
             "colorbar": {
              "outlinewidth": 0,
              "ticks": ""
             }
            },
            "type": "scattercarpet"
           }
          ],
          "scattergeo": [
           {
            "marker": {
             "colorbar": {
              "outlinewidth": 0,
              "ticks": ""
             }
            },
            "type": "scattergeo"
           }
          ],
          "scattergl": [
           {
            "marker": {
             "colorbar": {
              "outlinewidth": 0,
              "ticks": ""
             }
            },
            "type": "scattergl"
           }
          ],
          "scattermap": [
           {
            "marker": {
             "colorbar": {
              "outlinewidth": 0,
              "ticks": ""
             }
            },
            "type": "scattermap"
           }
          ],
          "scattermapbox": [
           {
            "marker": {
             "colorbar": {
              "outlinewidth": 0,
              "ticks": ""
             }
            },
            "type": "scattermapbox"
           }
          ],
          "scatterpolar": [
           {
            "marker": {
             "colorbar": {
              "outlinewidth": 0,
              "ticks": ""
             }
            },
            "type": "scatterpolar"
           }
          ],
          "scatterpolargl": [
           {
            "marker": {
             "colorbar": {
              "outlinewidth": 0,
              "ticks": ""
             }
            },
            "type": "scatterpolargl"
           }
          ],
          "scatterternary": [
           {
            "marker": {
             "colorbar": {
              "outlinewidth": 0,
              "ticks": ""
             }
            },
            "type": "scatterternary"
           }
          ],
          "surface": [
           {
            "colorbar": {
             "outlinewidth": 0,
             "ticks": ""
            },
            "colorscale": [
             [
              0,
              "#0d0887"
             ],
             [
              0.1111111111111111,
              "#46039f"
             ],
             [
              0.2222222222222222,
              "#7201a8"
             ],
             [
              0.3333333333333333,
              "#9c179e"
             ],
             [
              0.4444444444444444,
              "#bd3786"
             ],
             [
              0.5555555555555556,
              "#d8576b"
             ],
             [
              0.6666666666666666,
              "#ed7953"
             ],
             [
              0.7777777777777778,
              "#fb9f3a"
             ],
             [
              0.8888888888888888,
              "#fdca26"
             ],
             [
              1,
              "#f0f921"
             ]
            ],
            "type": "surface"
           }
          ],
          "table": [
           {
            "cells": {
             "fill": {
              "color": "#EBF0F8"
             },
             "line": {
              "color": "white"
             }
            },
            "header": {
             "fill": {
              "color": "#C8D4E3"
             },
             "line": {
              "color": "white"
             }
            },
            "type": "table"
           }
          ]
         },
         "layout": {
          "annotationdefaults": {
           "arrowcolor": "#2a3f5f",
           "arrowhead": 0,
           "arrowwidth": 1
          },
          "autotypenumbers": "strict",
          "coloraxis": {
           "colorbar": {
            "outlinewidth": 0,
            "ticks": ""
           }
          },
          "colorscale": {
           "diverging": [
            [
             0,
             "#8e0152"
            ],
            [
             0.1,
             "#c51b7d"
            ],
            [
             0.2,
             "#de77ae"
            ],
            [
             0.3,
             "#f1b6da"
            ],
            [
             0.4,
             "#fde0ef"
            ],
            [
             0.5,
             "#f7f7f7"
            ],
            [
             0.6,
             "#e6f5d0"
            ],
            [
             0.7,
             "#b8e186"
            ],
            [
             0.8,
             "#7fbc41"
            ],
            [
             0.9,
             "#4d9221"
            ],
            [
             1,
             "#276419"
            ]
           ],
           "sequential": [
            [
             0,
             "#0d0887"
            ],
            [
             0.1111111111111111,
             "#46039f"
            ],
            [
             0.2222222222222222,
             "#7201a8"
            ],
            [
             0.3333333333333333,
             "#9c179e"
            ],
            [
             0.4444444444444444,
             "#bd3786"
            ],
            [
             0.5555555555555556,
             "#d8576b"
            ],
            [
             0.6666666666666666,
             "#ed7953"
            ],
            [
             0.7777777777777778,
             "#fb9f3a"
            ],
            [
             0.8888888888888888,
             "#fdca26"
            ],
            [
             1,
             "#f0f921"
            ]
           ],
           "sequentialminus": [
            [
             0,
             "#0d0887"
            ],
            [
             0.1111111111111111,
             "#46039f"
            ],
            [
             0.2222222222222222,
             "#7201a8"
            ],
            [
             0.3333333333333333,
             "#9c179e"
            ],
            [
             0.4444444444444444,
             "#bd3786"
            ],
            [
             0.5555555555555556,
             "#d8576b"
            ],
            [
             0.6666666666666666,
             "#ed7953"
            ],
            [
             0.7777777777777778,
             "#fb9f3a"
            ],
            [
             0.8888888888888888,
             "#fdca26"
            ],
            [
             1,
             "#f0f921"
            ]
           ]
          },
          "colorway": [
           "#636efa",
           "#EF553B",
           "#00cc96",
           "#ab63fa",
           "#FFA15A",
           "#19d3f3",
           "#FF6692",
           "#B6E880",
           "#FF97FF",
           "#FECB52"
          ],
          "font": {
           "color": "#2a3f5f"
          },
          "geo": {
           "bgcolor": "white",
           "lakecolor": "white",
           "landcolor": "#E5ECF6",
           "showlakes": true,
           "showland": true,
           "subunitcolor": "white"
          },
          "hoverlabel": {
           "align": "left"
          },
          "hovermode": "closest",
          "mapbox": {
           "style": "light"
          },
          "paper_bgcolor": "white",
          "plot_bgcolor": "#E5ECF6",
          "polar": {
           "angularaxis": {
            "gridcolor": "white",
            "linecolor": "white",
            "ticks": ""
           },
           "bgcolor": "#E5ECF6",
           "radialaxis": {
            "gridcolor": "white",
            "linecolor": "white",
            "ticks": ""
           }
          },
          "scene": {
           "xaxis": {
            "backgroundcolor": "#E5ECF6",
            "gridcolor": "white",
            "gridwidth": 2,
            "linecolor": "white",
            "showbackground": true,
            "ticks": "",
            "zerolinecolor": "white"
           },
           "yaxis": {
            "backgroundcolor": "#E5ECF6",
            "gridcolor": "white",
            "gridwidth": 2,
            "linecolor": "white",
            "showbackground": true,
            "ticks": "",
            "zerolinecolor": "white"
           },
           "zaxis": {
            "backgroundcolor": "#E5ECF6",
            "gridcolor": "white",
            "gridwidth": 2,
            "linecolor": "white",
            "showbackground": true,
            "ticks": "",
            "zerolinecolor": "white"
           }
          },
          "shapedefaults": {
           "line": {
            "color": "#2a3f5f"
           }
          },
          "ternary": {
           "aaxis": {
            "gridcolor": "white",
            "linecolor": "white",
            "ticks": ""
           },
           "baxis": {
            "gridcolor": "white",
            "linecolor": "white",
            "ticks": ""
           },
           "bgcolor": "#E5ECF6",
           "caxis": {
            "gridcolor": "white",
            "linecolor": "white",
            "ticks": ""
           }
          },
          "title": {
           "x": 0.05
          },
          "xaxis": {
           "automargin": true,
           "gridcolor": "white",
           "linecolor": "white",
           "ticks": "",
           "title": {
            "standoff": 15
           },
           "zerolinecolor": "white",
           "zerolinewidth": 2
          },
          "yaxis": {
           "automargin": true,
           "gridcolor": "white",
           "linecolor": "white",
           "ticks": "",
           "title": {
            "standoff": 15
           },
           "zerolinecolor": "white",
           "zerolinewidth": 2
          }
         }
        },
        "title": {
         "text": "Student Score Distribution"
        },
        "xaxis": {
         "anchor": "y",
         "domain": [
          0,
          1
         ],
         "title": {
          "text": "total_score"
         }
        },
        "xaxis2": {
         "anchor": "y2",
         "domain": [
          0,
          1
         ],
         "matches": "x",
         "showgrid": true,
         "showticklabels": false
        },
        "yaxis": {
         "anchor": "x",
         "domain": [
          0,
          0.7326
         ],
         "title": {
          "text": "count"
         }
        },
        "yaxis2": {
         "anchor": "x2",
         "domain": [
          0.7426,
          1
         ],
         "matches": "y2",
         "showgrid": false,
         "showline": false,
         "showticklabels": false,
         "ticks": ""
        }
       }
      }
     },
     "metadata": {},
     "output_type": "display_data"
    },
    {
     "data": {
      "image/png": "[encoded data removed]",
      "text/plain": [
       "<Figure size 1000x600 with 2 Axes>"
      ]
     },
     "metadata": {},
     "output_type": "display_data"
    }
   ],
   "source": [
    "import pandas as pd\n",
    "import numpy as np\n",
    "import matplotlib.pyplot as plt\n",
    "import seaborn as sns\n",
    "import plotly.express as px\n",
    "import ipywidgets as widgets\n",
    "from IPython.display import display, HTML\n",
    "from sklearn.model_selection import train_test_split\n",
    "from sklearn.ensemble import RandomForestClassifier\n",
    "from sklearn.metrics import accuracy_score, classification_report\n",
    "\n",
    "# Load dataset\n",
    "data = pd.read_csv('StudentsPerformance.csv')\n",
    "\n",
    "# Feature Engineering\n",
    "data['total_score'] = data[['math score', 'reading score', 'writing score']].mean(axis=1)\n",
    "data['pass_fail'] = np.where(data['total_score'] >= 50, 'Pass', 'Fail')\n",
    "\n",
    "# Function to create interactive image cards\n",
    "def create_card(title, content):\n",
    "    return f\"\"\"\n",
    "    <div style='border:1px solid #ddd; padding:10px; margin:10px; border-radius:10px; box-shadow: 2px 2px 10px #aaa;'>\n",
    "        <h3>{title}</h3>\n",
    "        <p>{content}</p>\n",
    "    </div>\n",
    "    \"\"\"\n",
    "\n",
    "# Interactive Visualization\n",
    "def show_plots():\n",
    "    fig1 = px.histogram(data, x='total_score', color='pass_fail', marginal='box', title='Student Score Distribution')\n",
    "    fig1.show()\n",
    "    \n",
    "    plt.figure(figsize=(10,6))\n",
    "    sns.heatmap(data.select_dtypes(include=[np.number]).corr(), annot=True, cmap='coolwarm')\n",
    "    plt.title('Feature Correlation Heatmap')\n",
    "    plt.show()\n",
    "\n",
    "# ML Model: Predicting Pass/Fail\n",
    "X = data[['math score', 'reading score', 'writing score']]\n",
    "y = data['pass_fail']\n",
    "X_train, X_test, y_train, y_test = train_test_split(X, y, test_size=0.2, random_state=42)\n",
    "\n",
    "model = RandomForestClassifier()\n",
    "model.fit(X_train, y_train)\n",
    "y_pred = model.predict(X_test)\n",
    "\n",
    "# Model Evaluation\n",
    "accuracy = accuracy_score(y_test, y_pred)\n",
    "report = classification_report(y_test, y_pred)\n",
    "\n",
    "# Chatbot for Recommendations\n",
    "def chatbot(user_input):\n",
    "    responses = {\n",
    "        \"improve\": \"Focus on weak subjects, practice consistently, and seek tutoring if needed. Recommended websites: Khan Academy, Coursera. Books: 'Make It Stick' by Peter C. Brown, 'The Art of Learning' by Josh Waitzkin.\",\n",
    "        \"stress\": \"Try mindfulness exercises, schedule breaks, and maintain a healthy sleep routine. Recommended YouTube channels: 'Therapy in a Nutshell', 'Headspace'.\",\n",
    "        \"resources\": \"Check out Coursera, Khan Academy, and recommended books for additional learning. Websites: edX, Udemy. Books: 'Atomic Habits' by James Clear.\",\n",
    "        \"health\": \"Drink enough water, eat balanced meals, and get sufficient sleep for better focus. Foods: Nuts, leafy greens, and omega-3-rich fish help cognitive function.\"\n",
    "    }\n",
    "    return responses.get(user_input.lower(), \"I'm here to help! Ask about study tips, stress reduction, or resources.\")\n",
    "\n",
    "# Interactive Chat with Dropdown\n",
    "options = [\"improve\", \"stress\", \"resources\", \"health\"]\n",
    "chat_dropdown = widgets.Dropdown(options=options, description='Ask:')\n",
    "chat_output = widgets.Output()\n",
    "\n",
    "def on_chat_select(change):\n",
    "    with chat_output:\n",
    "        chat_output.clear_output()\n",
    "        response = chatbot(change.new)\n",
    "        display(HTML(create_card(\"Chatbot Response\", response)))\n",
    "\n",
    "chat_dropdown.observe(on_chat_select, names='value')\n",
    "\n",
    "# Display UI Elements\n",
    "display(HTML(create_card(\"Model Accuracy\", f\"The model achieved an accuracy of {accuracy:.2f}\")))\n",
    "display(HTML(create_card(\"Classification Report\", f\"<pre>{report}</pre>\")))\n",
    "display(chat_dropdown, chat_output)\n",
    "show_plots()\n"
   ]
  },
  {
   "cell_type": "code",
   "execution_count": 17,
   "metadata": {},
   "outputs": [
    {
     "name": "stdout",
     "output_type": "stream",
     "text": [
      "Dataset Statistical Summary:\n",
      "        math score  reading score  writing score  gender_encoded  \\\n",
      "count  1000.00000    1000.000000    1000.000000     1000.000000   \n",
      "mean     66.08900      69.169000      68.054000        0.482000   \n",
      "std      15.16308      14.600192      15.195657        0.499926   \n",
      "min       0.00000      17.000000      10.000000        0.000000   \n",
      "25%      57.00000      59.000000      57.750000        0.000000   \n",
      "50%      66.00000      70.000000      69.000000        0.000000   \n",
      "75%      77.00000      79.000000      79.000000        1.000000   \n",
      "max     100.00000     100.000000     100.000000        1.000000   \n",
      "\n",
      "       lunch_encoded  test_preparation_encoded  \n",
      "count    1000.000000               1000.000000  \n",
      "mean        0.645000                  0.642000  \n",
      "std         0.478753                  0.479652  \n",
      "min         0.000000                  0.000000  \n",
      "25%         0.000000                  0.000000  \n",
      "50%         1.000000                  1.000000  \n",
      "75%         1.000000                  1.000000  \n",
      "max         1.000000                  1.000000  \n",
      "High Performers Count: 51 - Recommendation: Consider advanced courses.\n",
      "Low Performers Count: 55 - Recommendation: Extra tutoring and study resources.\n"
     ]
    },
    {
     "data": {
      "application/vnd.jupyter.widget-view+json": {
       "model_id": "922ffe27bf3642378f3d0e1303b6b8c3",
       "version_major": 2,
       "version_minor": 0
      },
      "text/plain": [
       "interactive(children=(Dropdown(description='Choose Graph:', options=('Score Distribution', 'Gender Performance…"
      ]
     },
     "metadata": {},
     "output_type": "display_data"
    },
    {
     "name": "stdout",
     "output_type": "stream",
     "text": [
      "   math score  reading score  writing score pass_status  \\\n",
      "0          72             72             74        Pass   \n",
      "1          69             90             88        Pass   \n",
      "2          90             95             93        Pass   \n",
      "3          47             57             44        Fail   \n",
      "4          76             78             75        Pass   \n",
      "\n",
      "                                     recommendations  \n",
      "0  Suggested: Practice tests, EdX foundation cour...  \n",
      "1  Suggested: Practice tests, EdX foundation cour...  \n",
      "2  Suggested: MIT OpenCourseWare, Brilliant.org, ...  \n",
      "3  Suggested: Khan Academy, Coursera basics, YouT...  \n",
      "4  Suggested: Practice tests, EdX foundation cour...  \n"
     ]
    }
   ],
   "source": [
    "import pandas as pd\n",
    "import numpy as np\n",
    "import matplotlib.pyplot as plt\n",
    "import seaborn as sns\n",
    "import ipywidgets as widgets\n",
    "from IPython.display import display\n",
    "from sklearn.preprocessing import LabelEncoder\n",
    "\n",
    "# Load dataset\n",
    "data = pd.read_csv(\"StudentsPerformance.csv\")\n",
    "\n",
    "# Encode categorical variables\n",
    "label_enc = LabelEncoder()\n",
    "data['gender_encoded'] = label_enc.fit_transform(data['gender'])\n",
    "data['lunch_encoded'] = label_enc.fit_transform(data['lunch'])\n",
    "data['test_preparation_encoded'] = label_enc.fit_transform(data['test preparation course'])\n",
    "\n",
    "# Statistical Summary\n",
    "summary = data.describe()\n",
    "print(\"Dataset Statistical Summary:\\n\", summary)\n",
    "\n",
    "# High and Low Performers\n",
    "high_performers = data[(data['math score'] > 85) & (data['reading score'] > 85) & (data['writing score'] > 85)]\n",
    "low_performers = data[(data['math score'] < 50) & (data['reading score'] < 50) & (data['writing score'] < 50)]\n",
    "print(f\"High Performers Count: {len(high_performers)} - Recommendation: Consider advanced courses.\")\n",
    "print(f\"Low Performers Count: {len(low_performers)} - Recommendation: Extra tutoring and study resources.\")\n",
    "\n",
    "# Pass/Fail Classification\n",
    "pass_threshold = 50\n",
    "data['pass_status'] = np.where((data['math score'] >= pass_threshold) & \n",
    "                               (data['reading score'] >= pass_threshold) & \n",
    "                               (data['writing score'] >= pass_threshold), 'Pass', 'Fail')\n",
    "\n",
    "# Visualization Functions\n",
    "def plot_graph(option):\n",
    "    plt.figure(figsize=(8, 5))\n",
    "    if option == \"Score Distribution\":\n",
    "        sns.histplot(data[['math score', 'reading score', 'writing score']], kde=True)\n",
    "        plt.title(\"Distribution of Scores\")\n",
    "    elif option == \"Gender Performance\":\n",
    "        sns.boxplot(x='gender', y='math score', data=data)\n",
    "        plt.title(\"Math Score by Gender\")\n",
    "    elif option == \"Lunch Effect\":\n",
    "        sns.boxplot(x='lunch', y='math score', data=data)\n",
    "        plt.title(\"Effect of Lunch on Math Score\")\n",
    "    elif option == \"Pass/Fail Distribution\":\n",
    "        sns.countplot(x='pass_status', data=data, palette='coolwarm')\n",
    "        plt.title(\"Pass vs Fail Count\")\n",
    "    elif option == \"Correlation Heatmap\":\n",
    "        plt.figure(figsize=(10,6))\n",
    "        sns.heatmap(data[['math score', 'reading score', 'writing score', 'gender_encoded', 'lunch_encoded', 'test_preparation_encoded']].corr(), annot=True, cmap='coolwarm')\n",
    "        plt.title(\"Correlation Heatmap\")\n",
    "    plt.show()\n",
    "\n",
    "# Interactive Widget\n",
    "dropdown = widgets.Dropdown(\n",
    "    options=['Score Distribution', 'Gender Performance', 'Lunch Effect', 'Pass/Fail Distribution', 'Correlation Heatmap'],\n",
    "    description='Choose Graph:',\n",
    "    style={'description_width': 'initial'}\n",
    ")\n",
    "display(widgets.interactive(plot_graph, option=dropdown))\n",
    "\n",
    "# Recommendations Based on Performance\n",
    "def get_recommendations(row):\n",
    "    if row['pass_status'] == 'Fail':\n",
    "        return \"Suggested: Khan Academy, Coursera basics, YouTube: CrashCourse\"\n",
    "    elif row['pass_status'] == 'Pass' and row['math score'] > 85:\n",
    "        return \"Suggested: MIT OpenCourseWare, Brilliant.org, YouTube: 3Blue1Brown\"\n",
    "    else:\n",
    "        return \"Suggested: Practice tests, EdX foundation courses, YouTube: Numberphile\"\n",
    "\n",
    "data['recommendations'] = data.apply(get_recommendations, axis=1)\n",
    "print(data[['math score', 'reading score', 'writing score', 'pass_status', 'recommendations']].head())\n"
   ]
  },
  {
   "cell_type": "code",
   "execution_count": 12,
   "metadata": {},
   "outputs": [
    {
     "name": "stdout",
     "output_type": "stream",
     "text": [
      "Requirement already satisfied: streamlit in c:\\users\\91733\\appdata\\local\\programs\\python\\python313\\lib\\site-packages (1.43.1)\n",
      "Requirement already satisfied: altair<6,>=4.0 in c:\\users\\91733\\appdata\\local\\programs\\python\\python313\\lib\\site-packages (from streamlit) (5.5.0)\n",
      "Requirement already satisfied: blinker<2,>=1.0.0 in c:\\users\\91733\\appdata\\local\\programs\\python\\python313\\lib\\site-packages (from streamlit) (1.9.0)\n",
      "Requirement already satisfied: cachetools<6,>=4.0 in c:\\users\\91733\\appdata\\local\\programs\\python\\python313\\lib\\site-packages (from streamlit) (5.5.2)\n",
      "Requirement already satisfied: click<9,>=7.0 in c:\\users\\91733\\appdata\\local\\programs\\python\\python313\\lib\\site-packages (from streamlit) (8.1.8)\n",
      "Requirement already satisfied: numpy<3,>=1.23 in c:\\users\\91733\\appdata\\local\\programs\\python\\python313\\lib\\site-packages (from streamlit) (2.2.3)\n",
      "Requirement already satisfied: packaging<25,>=20 in c:\\users\\91733\\appdata\\roaming\\python\\python313\\site-packages (from streamlit) (24.2)\n",
      "Requirement already satisfied: pandas<3,>=1.4.0 in c:\\users\\91733\\appdata\\local\\programs\\python\\python313\\lib\\site-packages (from streamlit) (2.2.3)\n",
      "Requirement already satisfied: pillow<12,>=7.1.0 in c:\\users\\91733\\appdata\\local\\programs\\python\\python313\\lib\\site-packages (from streamlit) (11.1.0)\n",
      "Requirement already satisfied: protobuf<6,>=3.20 in c:\\users\\91733\\appdata\\local\\programs\\python\\python313\\lib\\site-packages (from streamlit) (5.29.3)\n",
      "Requirement already satisfied: pyarrow>=7.0 in c:\\users\\91733\\appdata\\local\\programs\\python\\python313\\lib\\site-packages (from streamlit) (19.0.1)\n",
      "Requirement already satisfied: requests<3,>=2.27 in c:\\users\\91733\\appdata\\local\\programs\\python\\python313\\lib\\site-packages (from streamlit) (2.32.3)\n",
      "Requirement already satisfied: tenacity<10,>=8.1.0 in c:\\users\\91733\\appdata\\local\\programs\\python\\python313\\lib\\site-packages (from streamlit) (9.0.0)\n",
      "Requirement already satisfied: toml<2,>=0.10.1 in c:\\users\\91733\\appdata\\local\\programs\\python\\python313\\lib\\site-packages (from streamlit) (0.10.2)\n",
      "Requirement already satisfied: typing-extensions<5,>=4.4.0 in c:\\users\\91733\\appdata\\local\\programs\\python\\python313\\lib\\site-packages (from streamlit) (4.12.2)\n",
      "Requirement already satisfied: watchdog<7,>=2.1.5 in c:\\users\\91733\\appdata\\local\\programs\\python\\python313\\lib\\site-packages (from streamlit) (6.0.0)\n",
      "Requirement already satisfied: gitpython!=3.1.19,<4,>=3.0.7 in c:\\users\\91733\\appdata\\local\\programs\\python\\python313\\lib\\site-packages (from streamlit) (3.1.44)\n",
      "Requirement already satisfied: pydeck<1,>=0.8.0b4 in c:\\users\\91733\\appdata\\local\\programs\\python\\python313\\lib\\site-packages (from streamlit) (0.9.1)\n",
      "Requirement already satisfied: tornado<7,>=6.0.3 in c:\\users\\91733\\appdata\\roaming\\python\\python313\\site-packages (from streamlit) (6.4.2)\n",
      "Requirement already satisfied: jinja2 in c:\\users\\91733\\appdata\\local\\programs\\python\\python313\\lib\\site-packages (from altair<6,>=4.0->streamlit) (3.1.6)\n",
      "Requirement already satisfied: jsonschema>=3.0 in c:\\users\\91733\\appdata\\local\\programs\\python\\python313\\lib\\site-packages (from altair<6,>=4.0->streamlit) (4.23.0)\n",
      "Requirement already satisfied: narwhals>=1.14.2 in c:\\users\\91733\\appdata\\local\\programs\\python\\python313\\lib\\site-packages (from altair<6,>=4.0->streamlit) (1.29.1)\n",
      "Requirement already satisfied: colorama in c:\\users\\91733\\appdata\\roaming\\python\\python313\\site-packages (from click<9,>=7.0->streamlit) (0.4.6)\n",
      "Requirement already satisfied: gitdb<5,>=4.0.1 in c:\\users\\91733\\appdata\\local\\programs\\python\\python313\\lib\\site-packages (from gitpython!=3.1.19,<4,>=3.0.7->streamlit) (4.0.12)\n",
      "Requirement already satisfied: python-dateutil>=2.8.2 in c:\\users\\91733\\appdata\\roaming\\python\\python313\\site-packages (from pandas<3,>=1.4.0->streamlit) (2.9.0.post0)\n",
      "Requirement already satisfied: pytz>=2020.1 in c:\\users\\91733\\appdata\\local\\programs\\python\\python313\\lib\\site-packages (from pandas<3,>=1.4.0->streamlit) (2025.1)\n",
      "Requirement already satisfied: tzdata>=2022.7 in c:\\users\\91733\\appdata\\local\\programs\\python\\python313\\lib\\site-packages (from pandas<3,>=1.4.0->streamlit) (2025.1)\n",
      "Requirement already satisfied: charset-normalizer<4,>=2 in c:\\users\\91733\\appdata\\local\\programs\\python\\python313\\lib\\site-packages (from requests<3,>=2.27->streamlit) (3.4.1)\n",
      "Requirement already satisfied: idna<4,>=2.5 in c:\\users\\91733\\appdata\\local\\programs\\python\\python313\\lib\\site-packages (from requests<3,>=2.27->streamlit) (3.10)\n",
      "Requirement already satisfied: urllib3<3,>=1.21.1 in c:\\users\\91733\\appdata\\local\\programs\\python\\python313\\lib\\site-packages (from requests<3,>=2.27->streamlit) (2.3.0)\n",
      "Requirement already satisfied: certifi>=2017.4.17 in c:\\users\\91733\\appdata\\local\\programs\\python\\python313\\lib\\site-packages (from requests<3,>=2.27->streamlit) (2025.1.31)\n",
      "Requirement already satisfied: smmap<6,>=3.0.1 in c:\\users\\91733\\appdata\\local\\programs\\python\\python313\\lib\\site-packages (from gitdb<5,>=4.0.1->gitpython!=3.1.19,<4,>=3.0.7->streamlit) (5.0.2)\n",
      "Requirement already satisfied: MarkupSafe>=2.0 in c:\\users\\91733\\appdata\\local\\programs\\python\\python313\\lib\\site-packages (from jinja2->altair<6,>=4.0->streamlit) (3.0.2)\n",
      "Requirement already satisfied: attrs>=22.2.0 in c:\\users\\91733\\appdata\\local\\programs\\python\\python313\\lib\\site-packages (from jsonschema>=3.0->altair<6,>=4.0->streamlit) (25.1.0)\n",
      "Requirement already satisfied: jsonschema-specifications>=2023.03.6 in c:\\users\\91733\\appdata\\local\\programs\\python\\python313\\lib\\site-packages (from jsonschema>=3.0->altair<6,>=4.0->streamlit) (2024.10.1)\n",
      "Requirement already satisfied: referencing>=0.28.4 in c:\\users\\91733\\appdata\\local\\programs\\python\\python313\\lib\\site-packages (from jsonschema>=3.0->altair<6,>=4.0->streamlit) (0.36.2)\n",
      "Requirement already satisfied: rpds-py>=0.7.1 in c:\\users\\91733\\appdata\\local\\programs\\python\\python313\\lib\\site-packages (from jsonschema>=3.0->altair<6,>=4.0->streamlit) (0.23.1)\n",
      "Requirement already satisfied: six>=1.5 in c:\\users\\91733\\appdata\\roaming\\python\\python313\\site-packages (from python-dateutil>=2.8.2->pandas<3,>=1.4.0->streamlit) (1.17.0)\n",
      "Note: you may need to restart the kernel to use updated packages.\n"
     ]
    }
   ],
   "source": [
    "pip install streamlit\n"
   ]
  },
  {
   "cell_type": "code",
   "execution_count": null,
   "metadata": {},
   "outputs": [],
   "source": []
  }
 ],
 "metadata": {
  "kernelspec": {
   "display_name": "Python 3",
   "language": "python",
   "name": "python3"
  },
  "language_info": {
   "codemirror_mode": {
    "name": "ipython",
    "version": 3
   },
   "file_extension": ".py",
   "mimetype": "text/x-python",
   "name": "python",
   "nbconvert_exporter": "python",
   "pygments_lexer": "ipython3",
   "version": "3.13.2"
  }
 },
 "nbformat": 4,
 "nbformat_minor": 2
}
